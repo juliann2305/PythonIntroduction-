{
  "nbformat": 4,
  "nbformat_minor": 0,
  "metadata": {
    "colab": {
      "provenance": [],
      "authorship_tag": "ABX9TyMtIIwAvPRZKOpvoFKPcYm7",
      "include_colab_link": true
    },
    "kernelspec": {
      "name": "python3",
      "display_name": "Python 3"
    },
    "language_info": {
      "name": "python"
    }
  },
  "cells": [
    {
      "cell_type": "markdown",
      "metadata": {
        "id": "view-in-github",
        "colab_type": "text"
      },
      "source": [
        "<a href=\"https://colab.research.google.com/github/juliann2305/PythonIntroduction-/blob/main/Pythonintroduction.ipynb\" target=\"_parent\"><img src=\"https://colab.research.google.com/assets/colab-badge.svg\" alt=\"Open In Colab\"/></a>"
      ]
    },
    {
      "cell_type": "markdown",
      "source": [
        "# Mis apuntes de Python\n",
        "### Fundamentos de Programación 202420\n",
        "\n",
        "**Nombre:**Juliana Nuñez\n",
        "\n",
        "_email:_ juliana.nunezg@upb.edu.co\n",
        "\n",
        "*Fecha de crecación:* 20 de Agosto,2024\n",
        "\n",
        "\n"
      ],
      "metadata": {
        "id": "NL6VYl_1tV4b"
      }
    },
    {
      "cell_type": "code",
      "execution_count": 20,
      "metadata": {
        "colab": {
          "base_uri": "https://localhost:8080/"
        },
        "id": "oO5HNqDJstgN",
        "outputId": "b22b5510-f48f-4b66-c8db-792648b68a05"
      },
      "outputs": [
        {
          "output_type": "stream",
          "name": "stdout",
          "text": [
            "Juliana es la más hermosa cumpleañera\n",
            "Feliz Cumpleaños, princesa\n",
            "Juliana\n",
            "Hola, mi nombre es Juliana tengo  19 años y soy de Monteria\n",
            "19.0\n"
          ]
        }
      ],
      "source": [
        "# Mis primeros pasos con Python\n",
        "print(\"Juliana es la más hermosa cumpleañera\")\n",
        "print(\"Feliz Cumpleaños, princesa\")\n",
        "\n",
        "name = \"Juliana\"\n",
        "print(name)\n",
        "age = 19\n",
        "city = \"Monteria\"\n",
        "print(\"Hola, mi nombre es\", name, \"tengo \", age, \"años\", \"y soy de\", city)\n",
        "a = 18\n",
        "b = 0.5\n",
        "c = 0.5\n",
        "d = a + b + c\n",
        "print (d)\n",
        "\n"
      ]
    },
    {
      "cell_type": "markdown",
      "source": [],
      "metadata": {
        "id": "oL9Q50zYxqyn"
      }
    },
    {
      "cell_type": "code",
      "source": [
        "# Operaciones Matematicas basicas\n",
        "\n",
        "print(3 + 2)\n",
        "print(3 - 2)\n",
        "print(3 * 2)\n",
        "print(3 / 2)\n",
        "print(3 % 2)\n",
        "print(3 ** 2)\n",
        "print(3 // 2)"
      ],
      "metadata": {
        "colab": {
          "base_uri": "https://localhost:8080/"
        },
        "id": "-m8EKUH4vZmV",
        "outputId": "a77dba2a-18dd-494c-d209-c76f24e45a9b"
      },
      "execution_count": 25,
      "outputs": [
        {
          "output_type": "stream",
          "name": "stdout",
          "text": [
            "5\n",
            "1\n",
            "6\n",
            "1.5\n",
            "1\n",
            "9\n",
            "1\n"
          ]
        }
      ]
    },
    {
      "cell_type": "code",
      "source": [
        "# Concatenación\n",
        "name = \"Juliana\"\n",
        "lastname = \"Nuñez\"\n",
        "fullname = name + \" \" + lastname\n",
        "print(fullname)\n"
      ],
      "metadata": {
        "colab": {
          "base_uri": "https://localhost:8080/"
        },
        "id": "bmGfRLhw10G8",
        "outputId": "8ac2fda5-8929-414e-f2c0-dea849caf436"
      },
      "execution_count": 29,
      "outputs": [
        {
          "output_type": "stream",
          "name": "stdout",
          "text": [
            "Juliana Nuñez\n"
          ]
        }
      ]
    },
    {
      "cell_type": "code",
      "source": [
        "# Multi - line\n",
        "\n",
        "Song = \"\"\"\n",
        "Quiero decirte cosas que habia escondido\n",
        "pero hay palabras que no me salen\n",
        "y no me dejan hablarte.\n",
        "Fueron tantas las noches siendo tu amigo\n",
        "pero hay verdades que no te sabes\n",
        "y tengo que confesarte.\n",
        "Quiero pensar que estaba escrito en mi destino\n",
        "encontrarme en tu camino,\n",
        "lo que no vi en otra parte,\n",
        "no hay nada que entender\n",
        "Mi corazón lo ve\n",
        "\"\"\"\n",
        "print(Song)"
      ],
      "metadata": {
        "colab": {
          "base_uri": "https://localhost:8080/"
        },
        "id": "I6vSbvWg4hRY",
        "outputId": "bacc51a7-387c-40b3-ef99-0ee871233c1b"
      },
      "execution_count": 33,
      "outputs": [
        {
          "output_type": "stream",
          "name": "stdout",
          "text": [
            "\n",
            "Quiero decirte cosas que habia escondido \n",
            "pero hay palabras que no me salen\n",
            "y no me dejan hablarte.\n",
            "Fueron tantas las noches siendo tu amigo \n",
            "pero hay verdades que no te sabes \n",
            "y tengo que confesarte. \n",
            "Quiero pensar que estaba escrito en mi destino \n",
            "encontrarme en tu camino,\n",
            "lo que no vi en otra parte, \n",
            "no hay nada que entender\n",
            "Mi corazón lo ve \n",
            "\n"
          ]
        }
      ]
    },
    {
      "cell_type": "code",
      "source": [],
      "metadata": {
        "id": "GrNc1lR16STI"
      },
      "execution_count": null,
      "outputs": []
    }
  ]
}